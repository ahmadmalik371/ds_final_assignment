{
 "cells": [
  {
   "cell_type": "markdown",
   "id": "820dedb3-9a1b-4264-852a-14f04ed4e18d",
   "metadata": {},
   "source": [
    "Exercise 2- Create markdown cell with title of the Notebook.\n",
    "# Data Science Tools and Ecosystem"
   ]
  },
  {
   "cell_type": "markdown",
   "id": "016ac6d2-9b24-49ac-a640-d6b62baa0fb6",
   "metadata": {},
   "source": [
    "Exercise 3:\n",
    "\n",
    "In this notebook, Data Science Tools and Ecosystem are summarized:"
   ]
  },
  {
   "cell_type": "markdown",
   "id": "217bc63d-3084-4928-b7d2-49c9ac42444a",
   "metadata": {},
   "source": [
    "Exercise 10:\n",
    "\n",
    "\n",
    "**Objectives:**\n",
    "* List popular tools for Data Science.\n",
    "* Introduce commonly used Data Science libraries.\n",
    "* Present examples of evaluating arithmetic expressions in Python.\n",
    "* Demonstrate converting units (minutes to hours) in Python."
   ]
  },
  {
   "cell_type": "markdown",
   "id": "d2d887fc-985b-4d07-9e39-db00b72abb97",
   "metadata": {},
   "source": [
    "Exercise 4:\n",
    "\n",
    "\n",
    "Some of the popular languages that Data Scientists use are:\n",
    "1. Python\n",
    "2. R\n",
    "3. SQL\n",
    "4. NoSQl\n",
    "5. Java\n",
    "6. Scala"
   ]
  },
  {
   "cell_type": "markdown",
   "id": "bab58e71-f487-4557-a109-7c0fc508eda1",
   "metadata": {},
   "source": [
    "Exercise 5:\n",
    "\n",
    "Some of the commonly used libraries used by Data Scientists include:\n",
    "1. Pandas\n",
    "2. Numpy\n",
    "3. Matplotlib\n",
    "4. Seaborn\n",
    "5. Scikit learn"
   ]
  },
  {
   "cell_type": "markdown",
   "id": "4ab18269-0f69-4829-b94d-6438509ac147",
   "metadata": {},
   "source": [
    "Exercise 6:\n",
    "\n",
    "| Data Science Tools |\n",
    "|--------------------|\n",
    "| Apache Spark       | \n",
    "| Hadoop             |\n",
    "| Tensorflow         |\n",
    "| SAS                |\n",
    "| Jupyter Notebook   |\n",
    "| Matplotlib         |\n",
    "\n"
   ]
  },
  {
   "cell_type": "markdown",
   "id": "784181d8-eca0-48d5-870c-4719eabe21c1",
   "metadata": {},
   "source": [
    "Exercise 7:\n",
    "\n",
    "\n",
    "### Below are few example for introducing arithmetic expression examples in Python.\n"
   ]
  },
  {
   "cell_type": "code",
   "execution_count": 13,
   "id": "3b1338e0-e28d-40de-b00e-4a53db0a2268",
   "metadata": {},
   "outputs": [
    {
     "data": {
      "text/plain": [
       "17"
      ]
     },
     "execution_count": 13,
     "metadata": {},
     "output_type": "execute_result"
    }
   ],
   "source": [
    "#Exercise 8:\n",
    "\n",
    "# This is a simple arithmetic expression to multiply and then add integers\n",
    "(3*4)+5"
   ]
  },
  {
   "cell_type": "code",
   "execution_count": 15,
   "id": "728d5f44-6080-4a6f-8494-91f6506ec852",
   "metadata": {},
   "outputs": [
    {
     "data": {
      "text/plain": [
       "3.3333333333333335"
      ]
     },
     "execution_count": 15,
     "metadata": {},
     "output_type": "execute_result"
    }
   ],
   "source": [
    "#Exercise 9:\n",
    "\n",
    "# This will convert 200 minutes to hours by dividing 200 by 60.\n",
    "200/60 "
   ]
  },
  {
   "cell_type": "markdown",
   "id": "9dd7f9c0-21af-49ab-b592-50b94032fb93",
   "metadata": {},
   "source": [
    "Exercise 11:\n",
    "\n",
    "## Author\n",
    "Muhammad Ahmad"
   ]
  }
 ],
 "metadata": {
  "kernelspec": {
   "display_name": "Python 3 (ipykernel)",
   "language": "python",
   "name": "python3"
  },
  "language_info": {
   "codemirror_mode": {
    "name": "ipython",
    "version": 3
   },
   "file_extension": ".py",
   "mimetype": "text/x-python",
   "name": "python",
   "nbconvert_exporter": "python",
   "pygments_lexer": "ipython3",
   "version": "3.12.8"
  }
 },
 "nbformat": 4,
 "nbformat_minor": 5
}
